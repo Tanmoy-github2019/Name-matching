{
 "cells": [
  {
   "cell_type": "code",
   "execution_count": 2,
   "metadata": {},
   "outputs": [],
   "source": [
    "import pandas as pd\n",
    "import numpy as np\n",
    "import matplotlib.pyplot as plt"
   ]
  },
  {
   "cell_type": "code",
   "execution_count": 3,
   "metadata": {},
   "outputs": [],
   "source": [
    "bs = pd.read_excel(\"DirectComparefwd.xlsx\",sheet_name=\"BankStatement\") #bank statement\n",
    "sr = pd.read_excel(\"DirectComparefwd.xlsx\",sheet_name=\"SalesRegi\") #SalesRegi"
   ]
  },
  {
   "cell_type": "code",
   "execution_count": null,
   "metadata": {},
   "outputs": [],
   "source": [
    "bs.head(3).T"
   ]
  },
  {
   "cell_type": "code",
   "execution_count": null,
   "metadata": {
    "scrolled": true
   },
   "outputs": [],
   "source": [
    "bs.columns"
   ]
  },
  {
   "cell_type": "markdown",
   "metadata": {},
   "source": [
    "retain all fields of bankstatement ; just rename the column ' Amount(INR)' which has few extra spaces"
   ]
  },
  {
   "cell_type": "code",
   "execution_count": null,
   "metadata": {},
   "outputs": [],
   "source": [
    "bs[' Amount(INR)'].name"
   ]
  },
  {
   "cell_type": "code",
   "execution_count": null,
   "metadata": {},
   "outputs": [],
   "source": [
    "bs.rename(columns= {' Amount(INR)' : 'Amount(INR)'},inplace=True);"
   ]
  },
  {
   "cell_type": "code",
   "execution_count": null,
   "metadata": {},
   "outputs": [],
   "source": [
    "bs['Amount(INR)'].name"
   ]
  },
  {
   "cell_type": "code",
   "execution_count": null,
   "metadata": {
    "scrolled": true
   },
   "outputs": [],
   "source": [
    "bs.columns"
   ]
  },
  {
   "cell_type": "code",
   "execution_count": null,
   "metadata": {},
   "outputs": [],
   "source": [
    "sr.head(3).T"
   ]
  },
  {
   "cell_type": "markdown",
   "metadata": {},
   "source": [
    "sr is invoice raised dataset. \"Net Amount\" is the amount raised for payment.\n",
    "let's clean-up and retain what all is required."
   ]
  },
  {
   "cell_type": "code",
   "execution_count": null,
   "metadata": {},
   "outputs": [],
   "source": [
    "sr.info()\n",
    "#Fields to take\n",
    "#[\"Date\",\"SO No\",\"Party Name\",\"Customer PO Date\",\"Category\",\"Net Amount\",\"SalesMan\"]\n",
    "#The field names are copied from the result of this very Jupyter-cell's command"
   ]
  },
  {
   "cell_type": "code",
   "execution_count": null,
   "metadata": {},
   "outputs": [],
   "source": [
    "sr = sr.loc[:,[\"Date\",\"SO No\",\"Party Name\",\"Customer PO Date\",\"Category\",\n",
    "               \"Net Amount\",\"SalesMan\"]]"
   ]
  },
  {
   "cell_type": "code",
   "execution_count": null,
   "metadata": {},
   "outputs": [],
   "source": [
    "bs.head(3)"
   ]
  },
  {
   "cell_type": "code",
   "execution_count": null,
   "metadata": {},
   "outputs": [],
   "source": [
    "sr.head(3).T"
   ]
  },
  {
   "cell_type": "code",
   "execution_count": null,
   "metadata": {},
   "outputs": [],
   "source": [
    "bs.loc[:5,[\"CHQNO\",'Transaction Particulars']] #Will  extract info from these columns"
   ]
  },
  {
   "cell_type": "markdown",
   "metadata": {},
   "source": [
    "In bank-statement dataframe, `CHQNO` and `Transaction Particulars` have the descriptions about the parties. So to maximize the possibility of a match, let us concatenate these two strings. But we will retain all columns of bank-statement so that we get the future reference."
   ]
  },
  {
   "cell_type": "code",
   "execution_count": null,
   "metadata": {},
   "outputs": [],
   "source": [
    "#Utility Function - Need not be applied separately\n",
    "import re\n",
    "def extract_alpha_str(x):  #function renamed from initial 'create_word_vector'\n",
    "    L = re.findall(r'[^\\d\\.\\,/]{3,}',x)\n",
    "    L1 = [word.lower() for word in L]\n",
    "    return L1"
   ]
  },
  {
   "cell_type": "code",
   "execution_count": null,
   "metadata": {},
   "outputs": [],
   "source": [
    "#Utility function -\n",
    "#It uses extract_alpha_str and converts the strings to phrases \n",
    "def create_word_vector_from_str_array(pandas_series):\n",
    "    wd = {}\n",
    "    for i,x in (pandas_series.items()): #this separates index & values\n",
    "\n",
    "        try:\n",
    "            wd[i]=extract_alpha_str(x)   #Why ? because blank cell is Nan which is not str \n",
    "        except:\n",
    "            TypeError\n",
    "            wd[i] = [\"missing\"]\n",
    "            \n",
    "    if not len(wd)==len(pandas_series):\n",
    "        print(\"String to vector conversion did not happen correctly. Check.\")\n",
    "    word_vector = pd.Series(wd)\n",
    "    return word_vector"
   ]
  },
  {
   "cell_type": "code",
   "execution_count": null,
   "metadata": {},
   "outputs": [],
   "source": [
    "#Utility FUnction - convert a list of phrases to a list of words \n",
    "# - Need not be applied separately\n",
    "\n",
    "def phrase_to_single_words(list_of_phrases):\n",
    "    \"\"\" This converts a list of phrases and words mixed together to list of words\"\"\"\n",
    "    word_list = []\n",
    "    for phrase in list_of_phrases:\n",
    "        L = phrase.split(\" \") #generate a list for each phrase\n",
    "        word_list += L\n",
    "    return word_list"
   ]
  },
  {
   "cell_type": "code",
   "execution_count": null,
   "metadata": {},
   "outputs": [],
   "source": [
    "#Make the phrase_to_single_words function applicable to pandas series\n",
    "\n",
    "\n",
    "def generate_single_word_list(pandas_series,stop_word_list=None):\n",
    "    wd = {}\n",
    "    for i,x in (pandas_series.items()): # x is the numpy array ; i is the index array\n",
    "        try :                          # NaN should not occur, still a harmless protection\n",
    "            \n",
    "            L1 = phrase_to_single_words(x)\n",
    "            #L2 = [w for w in L1 if w not in stop_word_list]\n",
    "            L3 = [w for w in L1 if len(w)>2]\n",
    "            L4 = list(set(L3))\n",
    "            wd[i] = L4\n",
    "        except:\n",
    "            TypeError \n",
    "            print(\"An unexpected TypeError occurred\")\n",
    "    \n",
    "    if not len(wd)==len(pandas_series):\n",
    "        print(\"String to vector conversion did not happen correctly. Check.\")\n",
    "    \n",
    "    word_vector = pd.Series(wd)\n",
    "    \n",
    "    return word_vector "
   ]
  },
  {
   "cell_type": "code",
   "execution_count": null,
   "metadata": {},
   "outputs": [],
   "source": [
    "bs_chq_phrases = create_word_vector_from_str_array(bs.loc[:,\"CHQNO\"])"
   ]
  },
  {
   "cell_type": "code",
   "execution_count": null,
   "metadata": {},
   "outputs": [],
   "source": [
    "bs_chq_words = generate_single_word_list(bs_chq_phrases)"
   ]
  },
  {
   "cell_type": "code",
   "execution_count": null,
   "metadata": {},
   "outputs": [],
   "source": [
    "bs_chq_words.values"
   ]
  },
  {
   "cell_type": "markdown",
   "metadata": {},
   "source": [
    "#Repeat the above steps for bs['Transaction Particulars']"
   ]
  },
  {
   "cell_type": "code",
   "execution_count": null,
   "metadata": {},
   "outputs": [],
   "source": [
    "bs_Trn_phrase = create_word_vector_from_str_array(bs.loc[:,\"Transaction Particulars\"])\n",
    "bs_Trn_words = generate_single_word_list(bs_Trn_phrase)"
   ]
  },
  {
   "cell_type": "code",
   "execution_count": null,
   "metadata": {},
   "outputs": [],
   "source": [
    "bs_Trn_words.values"
   ]
  },
  {
   "cell_type": "markdown",
   "metadata": {},
   "source": [
    "### Now join two lists into one"
   ]
  },
  {
   "cell_type": "code",
   "execution_count": null,
   "metadata": {},
   "outputs": [],
   "source": [
    "bs_remitter = bs_chq_words.values + bs_Trn_words.values"
   ]
  },
  {
   "cell_type": "code",
   "execution_count": null,
   "metadata": {},
   "outputs": [],
   "source": [
    "bs_remitter = [list(set(w)) for w in bs_remitter]"
   ]
  },
  {
   "cell_type": "code",
   "execution_count": null,
   "metadata": {},
   "outputs": [],
   "source": [
    "bs_remitter[:5]"
   ]
  },
  {
   "cell_type": "code",
   "execution_count": null,
   "metadata": {},
   "outputs": [],
   "source": [
    "bs_remitter[60]"
   ]
  },
  {
   "cell_type": "code",
   "execution_count": null,
   "metadata": {},
   "outputs": [],
   "source": [
    "len(bs_remitter)"
   ]
  },
  {
   "cell_type": "code",
   "execution_count": null,
   "metadata": {},
   "outputs": [],
   "source": [
    "type(bs_remitter)"
   ]
  },
  {
   "cell_type": "markdown",
   "metadata": {},
   "source": [
    "### Do this treatment for sr dataframe as well"
   ]
  },
  {
   "cell_type": "code",
   "execution_count": null,
   "metadata": {},
   "outputs": [],
   "source": [
    "sr_party_phrase = create_word_vector_from_str_array(sr.loc[:,\"Party Name\"])"
   ]
  },
  {
   "cell_type": "code",
   "execution_count": null,
   "metadata": {},
   "outputs": [],
   "source": [
    "sr_party_words = generate_single_word_list(sr_party_phrase)"
   ]
  },
  {
   "cell_type": "code",
   "execution_count": null,
   "metadata": {},
   "outputs": [],
   "source": [
    "len(sr_party_words)"
   ]
  },
  {
   "cell_type": "code",
   "execution_count": null,
   "metadata": {},
   "outputs": [],
   "source": [
    "type(sr_party_words)"
   ]
  },
  {
   "cell_type": "code",
   "execution_count": null,
   "metadata": {},
   "outputs": [],
   "source": [
    "sr_party_words_list = list(sr_party_words.values)"
   ]
  },
  {
   "cell_type": "code",
   "execution_count": null,
   "metadata": {},
   "outputs": [],
   "source": [
    "len(sr_party_words_list)"
   ]
  },
  {
   "cell_type": "code",
   "execution_count": null,
   "metadata": {},
   "outputs": [],
   "source": [
    "type(sr_party_words_list)"
   ]
  },
  {
   "cell_type": "code",
   "execution_count": null,
   "metadata": {
    "scrolled": true
   },
   "outputs": [],
   "source": [
    "sr_party_words_list[:5]"
   ]
  },
  {
   "cell_type": "code",
   "execution_count": null,
   "metadata": {},
   "outputs": [],
   "source": [
    "sr_party_words_list[5]"
   ]
  },
  {
   "cell_type": "markdown",
   "metadata": {},
   "source": [
    "### Create Bank statement stopword list"
   ]
  },
  {
   "cell_type": "code",
   "execution_count": null,
   "metadata": {},
   "outputs": [],
   "source": [
    "L1 = []\n",
    "for inside_list in bs_remitter:\n",
    "    for item in inside_list:\n",
    "        L1.append(item)\n",
    "L1[:5]"
   ]
  },
  {
   "cell_type": "markdown",
   "metadata": {},
   "source": [
    "### Create Sales Register stopword list "
   ]
  },
  {
   "cell_type": "code",
   "execution_count": null,
   "metadata": {},
   "outputs": [],
   "source": [
    "L2 = []\n",
    "for inside_list in sr_party_words_list:\n",
    "    for item in inside_list:\n",
    "        L2.append(item)\n",
    "L2[:5]"
   ]
  },
  {
   "cell_type": "code",
   "execution_count": null,
   "metadata": {},
   "outputs": [],
   "source": [
    "#Join L1 and L2\n",
    "L3 = L1 + L2"
   ]
  },
  {
   "cell_type": "code",
   "execution_count": null,
   "metadata": {},
   "outputs": [],
   "source": [
    "A = np.array(L3)\n",
    "\n",
    "A1 = np.unique(A,return_counts=True)\n",
    "\n",
    "df=pd.DataFrame({'Word':A1[0],'Frequency':A1[1]})\n",
    "\n",
    "df1 = df.sort_values(by=\"Frequency\",ascending=False)\n",
    "\n",
    "df1.head(3)"
   ]
  },
  {
   "cell_type": "code",
   "execution_count": 46,
   "metadata": {},
   "outputs": [
    {
     "data": {
      "image/png": "[encoded data removed]",
      "text/plain": [
       "<Figure size 432x288 with 1 Axes>"
      ]
     },
     "metadata": {
      "needs_background": "light"
     },
     "output_type": "display_data"
    }
   ],
   "source": [
    "df1[:5].plot.barh(x=\"Word\",grid=True)\n",
    "plt.show()"
   ]
  },
  {
   "cell_type": "code",
   "execution_count": 45,
   "metadata": {},
   "outputs": [],
   "source": [
    "#Save the words which have been repeated more than a certain times - manually verify"
   ]
  },
  {
   "cell_type": "code",
   "execution_count": null,
   "metadata": {},
   "outputs": [],
   "source": [
    "#B = list(filter(lambda x: (len(x)<3),A)) #check if there is any small but imp words \n",
    "#B"
   ]
  },
  {
   "cell_type": "code",
   "execution_count": null,
   "metadata": {},
   "outputs": [],
   "source": [
    "#Create a csv for futuer reference\n",
    "\n",
    "df1.to_csv('stop_words.csv',index=False)"
   ]
  }
 ],
 "metadata": {
  "kernelspec": {
   "display_name": "Python 3",
   "language": "python",
   "name": "python3"
  },
  "language_info": {
   "codemirror_mode": {
    "name": "ipython",
    "version": 3
   },
   "file_extension": ".py",
   "mimetype": "text/x-python",
   "name": "python",
   "nbconvert_exporter": "python",
   "pygments_lexer": "ipython3",
   "version": "3.7.6"
  }
 },
 "nbformat": 4,
 "nbformat_minor": 4
}
